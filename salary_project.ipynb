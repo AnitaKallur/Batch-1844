{
 "cells": [
  {
   "cell_type": "code",
   "execution_count": 3,
   "metadata": {},
   "outputs": [
    {
     "name": "stdout",
     "output_type": "stream",
     "text": [
      "         rank discipline  yrs.since.phd  yrs.service   sex  salary\n",
      "0        Prof          B             19           18  Male  139750\n",
      "1        Prof          B             20           16  Male  173200\n",
      "2    AsstProf          B              4            3  Male   79750\n",
      "3        Prof          B             45           39  Male  115000\n",
      "4        Prof          B             40           41  Male  141500\n",
      "..        ...        ...            ...          ...   ...     ...\n",
      "392      Prof          A             33           30  Male  103106\n",
      "393      Prof          A             31           19  Male  150564\n",
      "394      Prof          A             42           25  Male  101738\n",
      "395      Prof          A             25           15  Male   95329\n",
      "396  AsstProf          A              8            4  Male   81035\n",
      "\n",
      "[397 rows x 6 columns]\n"
     ]
    }
   ],
   "source": [
    "import pandas as pd\n",
    "df = pd.read_csv(\"https://raw.githubusercontent.com/dsrscientist/dataset3/main/Salaries.csv\")\n",
    "print(df)"
   ]
  }
 ],
 "metadata": {
  "kernelspec": {
   "display_name": "Python 3.10.4 ('data_science')",
   "language": "python",
   "name": "python3"
  },
  "language_info": {
   "codemirror_mode": {
    "name": "ipython",
    "version": 3
   },
   "file_extension": ".py",
   "mimetype": "text/x-python",
   "name": "python",
   "nbconvert_exporter": "python",
   "pygments_lexer": "ipython3",
   "version": "3.10.4"
  },
  "orig_nbformat": 4,
  "vscode": {
   "interpreter": {
    "hash": "a8d58dd5be0ada4fb5a47414fe14ff43adb412c7f275b2cb4b408d3aefadbe44"
   }
  }
 },
 "nbformat": 4,
 "nbformat_minor": 2
}
